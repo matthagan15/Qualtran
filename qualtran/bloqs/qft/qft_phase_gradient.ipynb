{
 "cells": [
  {
   "cell_type": "markdown",
   "id": "f5f7b6eb",
   "metadata": {
    "cq.autogen": "title_cell"
   },
   "source": [
    "# Phase Gradient QFT"
   ]
  },
  {
   "cell_type": "code",
   "execution_count": null,
   "id": "e59e16a4",
   "metadata": {
    "cq.autogen": "top_imports"
   },
   "outputs": [],
   "source": [
    "from qualtran import Bloq, CompositeBloq, BloqBuilder, Signature, Register\n",
    "from qualtran import QBit, QInt, QUInt, QAny\n",
    "from qualtran.drawing import show_bloq, show_call_graph, show_counts_sigma\n",
    "from typing import *\n",
    "import numpy as np\n",
    "import sympy\n",
    "import cirq"
   ]
  },
  {
   "cell_type": "markdown",
   "id": "a576d89e",
   "metadata": {
    "cq.autogen": "QFTPhaseGradient.bloq_doc.md"
   },
   "source": [
    "## `QFTPhaseGradient`\n",
    "QFT implemented using coherent addition into a phase gradient register as opposed to controlled rotations. Uses O(n**2) T-gates for an n-bit register.\n",
    "\n",
    "Given an n-bit phase gradient state $|\\phi\\rangle$ prepared as\n",
    "\n",
    "$$\n",
    "    |\\phi\\rangle = \\frac{1}{\\sqrt{2^{n}}} \\sum_{k=0}^{2^{n} - 1} \\omega_{n}^{-k} |k\\rangle\n",
    "$$\n",
    "\n",
    "Phase gradient rotations can be synthesized via additions into the phase gradient register.\n",
    "This leads to significant reductions in T/Toffoli complexity and requires 0 arbitrary\n",
    "rotations (given a one-time cost to prepare the gradient register). See the linked reference\n",
    "for more details.\n",
    "\n",
    "#### Parameters\n",
    " - `bitsize`: Size of input register to apply QFT on.\n",
    " - `with_reverse`: Whether or not to include the swaps at the end of the circuit decomposition that reverse the order of the qubits. If True, the swaps are inserted. Defaults to True. These are technically necessary in order to perform the correct effect, but can almost always be optimized away by just performing later operations on different qubits. \n",
    "\n",
    "#### References\n",
    " - [Turning Gradients into Additions into QFTs](https://algassert.com/post/1620). \n"
   ]
  },
  {
   "cell_type": "code",
   "execution_count": null,
   "id": "ac366e73",
   "metadata": {
    "cq.autogen": "QFTPhaseGradient.bloq_doc.py"
   },
   "outputs": [],
   "source": [
    "from qualtran.bloqs.qft import QFTPhaseGradient"
   ]
  },
  {
   "cell_type": "markdown",
   "id": "a263029e",
   "metadata": {
    "cq.autogen": "QFTPhaseGradient.example_instances.md"
   },
   "source": [
    "### Example Instances"
   ]
  },
  {
   "cell_type": "code",
   "execution_count": null,
   "id": "4fbea763",
   "metadata": {
    "cq.autogen": "QFTPhaseGradient.qft_phase_gradient_small"
   },
   "outputs": [],
   "source": [
    "qft_phase_gradient_small = QFTPhaseGradient(3)"
   ]
  },
  {
   "cell_type": "markdown",
   "id": "7771a2aa",
   "metadata": {
    "cq.autogen": "QFTPhaseGradient.graphical_signature.md"
   },
   "source": [
    "#### Graphical Signature"
   ]
  },
  {
   "cell_type": "code",
   "execution_count": null,
   "id": "eff00465",
   "metadata": {
    "cq.autogen": "QFTPhaseGradient.graphical_signature.py"
   },
   "outputs": [],
   "source": [
    "from qualtran.drawing import show_bloqs\n",
    "show_bloqs([qft_phase_gradient_small],\n",
    "           ['`qft_phase_gradient_small`'])"
   ]
  },
  {
   "cell_type": "markdown",
   "id": "3b2f69c8",
   "metadata": {
    "cq.autogen": "QFTPhaseGradient.call_graph.md"
   },
   "source": [
    "### Call Graph"
   ]
  },
  {
   "cell_type": "code",
   "execution_count": null,
   "id": "cad50d97",
   "metadata": {
    "cq.autogen": "QFTPhaseGradient.call_graph.py"
   },
   "outputs": [],
   "source": [
    "from qualtran.resource_counting.generalizers import ignore_split_join\n",
    "qft_phase_gradient_small_g, qft_phase_gradient_small_sigma = qft_phase_gradient_small.call_graph(max_depth=1, generalizer=ignore_split_join)\n",
    "show_call_graph(qft_phase_gradient_small_g)\n",
    "show_counts_sigma(qft_phase_gradient_small_sigma)"
   ]
  }
 ],
 "metadata": {
  "kernelspec": {
   "display_name": "Python 3",
   "language": "python",
   "name": "python3"
  },
  "language_info": {
   "name": "python"
  }
 },
 "nbformat": 4,
 "nbformat_minor": 5
}
