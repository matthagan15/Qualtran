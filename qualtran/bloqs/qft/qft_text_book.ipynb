{
 "cells": [
  {
   "cell_type": "markdown",
   "id": "ca81e938",
   "metadata": {
    "cq.autogen": "title_cell"
   },
   "source": [
    "# Textbook QFT"
   ]
  },
  {
   "cell_type": "code",
   "execution_count": null,
   "id": "576f7316",
   "metadata": {
    "cq.autogen": "top_imports"
   },
   "outputs": [],
   "source": [
    "from qualtran import Bloq, CompositeBloq, BloqBuilder, Signature, Register\n",
    "from qualtran import QBit, QInt, QUInt, QAny\n",
    "from qualtran.drawing import show_bloq, show_call_graph, show_counts_sigma\n",
    "from typing import *\n",
    "import numpy as np\n",
    "import sympy\n",
    "import cirq"
   ]
  },
  {
   "cell_type": "markdown",
   "id": "b40ca3c4",
   "metadata": {
    "cq.autogen": "QFTTextBook.bloq_doc.md"
   },
   "source": [
    "## `QFTTextBook`\n",
    "Quantum Fourier Transform as presented in Chapter 5.1 of Nielsen and\n",
    "Chuang\n",
    "\n",
    "Performs the standard QFT on a register of `bitsize` qubits utilizing\n",
    "`bitsize` Hadamards and `bitsize` * (`bitsize` - 1) / 2 controlled Z\n",
    "rotations, along with a reversal of qubit ordering specified via\n",
    "`with_reverse` which defaults to `True`. `bitsize` can be provided numerically or symbolically. More specific QFT implementations\n",
    "can be found:\n",
    "- `ApproximateQFT` does not apply as small phases as standard QFT and relies on a specified rotation accuracy cutoff.\n",
    "- `QFTPhaseGradient` requires an additional input phase gradient register\n",
    "to be provided but utilizes controlled addition instead of rotations, which leads to reduced T-gate complexity.\n",
    "- `TwoBitFFFT` if you need to implement a two-qubit fermionic Fourier transform.\n",
    "\n",
    "#### References\n",
    " - [Quantum Computation and Quantum Information: 10th Anniversary Edition,     Nielsen & Chuang](https://www.cambridge.org/highereducation/books/quantum-computation-and-quantum-information/01E10196D0A682A6AEFFEA52D53BE9AE#overview).     Chapter 5.1\n",
    "\n",
    "#### Parameters\n",
    " - `bitsize`: Size of the input register to apply QFT on.\n",
    " - `with_reverse`: Whether or not to include the swaps at the end of the circuit decomposition that reverse the order of the qubits. If True, the swaps are inserted. Defaults to True. These are technically necessary in order to perform the correct effect, but can almost always be optimized away by just performing later operations on different qubits.\n"
   ]
  },
  {
   "cell_type": "code",
   "execution_count": null,
   "id": "111ceb10",
   "metadata": {
    "cq.autogen": "QFTTextBook.bloq_doc.py"
   },
   "outputs": [],
   "source": [
    "from qualtran.bloqs.qft import QFTTextBook"
   ]
  },
  {
   "cell_type": "markdown",
   "id": "ae6650d0",
   "metadata": {
    "cq.autogen": "QFTTextBook.example_instances.md"
   },
   "source": [
    "### Example Instances"
   ]
  },
  {
   "cell_type": "code",
   "execution_count": null,
   "id": "2e4cc5c5",
   "metadata": {
    "cq.autogen": "QFTTextBook.qft_text_book"
   },
   "outputs": [],
   "source": [
    "qft_text_book = QFTTextBook(3)"
   ]
  },
  {
   "cell_type": "markdown",
   "id": "24a006a9",
   "metadata": {
    "cq.autogen": "QFTTextBook.graphical_signature.md"
   },
   "source": [
    "#### Graphical Signature"
   ]
  },
  {
   "cell_type": "code",
   "execution_count": null,
   "id": "02da1293",
   "metadata": {
    "cq.autogen": "QFTTextBook.graphical_signature.py"
   },
   "outputs": [],
   "source": [
    "from qualtran.drawing import show_bloqs\n",
    "show_bloqs([qft_text_book],\n",
    "           ['`qft_text_book`'])"
   ]
  },
  {
   "cell_type": "markdown",
   "id": "543e0b24",
   "metadata": {
    "cq.autogen": "QFTTextBook.call_graph.md"
   },
   "source": [
    "### Call Graph"
   ]
  },
  {
   "cell_type": "code",
   "execution_count": null,
   "id": "de677a93",
   "metadata": {
    "cq.autogen": "QFTTextBook.call_graph.py"
   },
   "outputs": [],
   "source": [
    "from qualtran.resource_counting.generalizers import ignore_split_join\n",
    "qft_text_book_g, qft_text_book_sigma = qft_text_book.call_graph(max_depth=1, generalizer=ignore_split_join)\n",
    "show_call_graph(qft_text_book_g)\n",
    "show_counts_sigma(qft_text_book_sigma)"
   ]
  }
 ],
 "metadata": {
  "kernelspec": {
   "display_name": "Python 3",
   "language": "python",
   "name": "python3"
  },
  "language_info": {
   "name": "python"
  }
 },
 "nbformat": 4,
 "nbformat_minor": 5
}
